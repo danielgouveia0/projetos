{
  "nbformat": 4,
  "nbformat_minor": 0,
  "metadata": {
    "colab": {
      "provenance": [],
      "authorship_tag": "ABX9TyPtydN/rqxbfGWyqcNCmgXS",
      "include_colab_link": true
    },
    "kernelspec": {
      "name": "python3",
      "display_name": "Python 3"
    },
    "language_info": {
      "name": "python"
    }
  },
  "cells": [
    {
      "cell_type": "markdown",
      "metadata": {
        "id": "view-in-github",
        "colab_type": "text"
      },
      "source": [
        "<a href=\"https://colab.research.google.com/github/danielgouveia0/projetos/blob/main/PROJETO.ipynb\" target=\"_parent\"><img src=\"https://colab.research.google.com/assets/colab-badge.svg\" alt=\"Open In Colab\"/></a>"
      ]
    },
    {
      "cell_type": "markdown",
      "source": [
        "## Análise dos Dados do Airbnb - *Dublin, Irlanda*\n",
        "\n",
        "O Airbnb é considerado como sendo a maior empresa hoteleira da atualidade. Através dela, anfitriões de todo o mundo oferecem oportunidades a hóspedes interessados em interagir com as mais diversas comunidades. A empresa foi fundada em 2008 por Brian Chesky, Nathan Blecharczyk e Joe Gebbia e já conta com mais de 4 milhões de hóspedes ao redor do globo.\n",
        "\n",
        "O Airbn providencia dados de algumas das principais cidades do mundo, desta forma tornando possível o desenvolvimento de projetos e soluções de Data Science. Esses dados podem ser encontrados no [Inside Airbnb](http://insideairbnb.com/get-the-data.html).\n",
        "\n",
        "<center><img alt=\"Analisando Airbnb\" width=\"20%\" src=\"https://www.area360.com.au/wp-content/uploads/2017/09/airbnb-logo.jpg\"></center>"
      ],
      "metadata": {
        "id": "RImnQcGdtWTJ"
      }
    },
    {
      "cell_type": "markdown",
      "source": [
        "## Obtenção dos Dados\n",
        "\n",
        "Os dados utilizados neste análise foram obtidos através do site [Inside Airbnb](http://insideairbnb.com/get-the-data.html). Para exploração inicial o seguinte arquivo será baixado:\n",
        "\n",
        "* `listings.csv`- Summary information and metrics for listings in Toronto (good for visualisations).\n"
      ],
      "metadata": {
        "id": "xJq7E4BatdRR"
      }
    },
    {
      "cell_type": "markdown",
      "source": [
        "Antes de tudo, faremos alguns comandos básicos:\n"
      ],
      "metadata": {
        "id": "YD8UuxsmtjPS"
      }
    },
    {
      "cell_type": "code",
      "source": [
        "#importando os pacotes necessários\n",
        "import pandas as pd\n",
        "import matplotlib.pyplot as plt\n",
        "import seaborn as sns\n",
        "\n",
        "%matplotlib inline"
      ],
      "metadata": {
        "id": "5379Kz_ttn5C"
      },
      "execution_count": 2,
      "outputs": []
    },
    {
      "cell_type": "code",
      "source": [
        "#importando os dados da cidade de Dublin\n",
        "df = pd.read_csv('http://data.insideairbnb.com/ireland/leinster/dublin/2022-09-11/visualisations/listings.csv')"
      ],
      "metadata": {
        "id": "i1A0BbmstqY0"
      },
      "execution_count": 3,
      "outputs": []
    },
    {
      "cell_type": "markdown",
      "source": [
        "**Dicionário das variáveis**\n",
        "\n",
        "* `id` - Identificador único do imóvel - tipo integer;\n",
        "* `name` - Headline do anúncio do imóvel - tipo string;\n",
        "* `host_id` - Código do proprietário (anfitrião) do imóvel - tipo integer;\n",
        "* `host_name` - Nome do Anfitrião - tipo string;\n",
        "* `neighbourhood_group` - Sem dados - tipo string;\n",
        "* `neighbourhood` - Nome do bairro - tipo string;\n",
        "* `latitude` - Coordenada latitudinal do imóvel - tipo float;\n",
        "* `longitude` - Coordenada longitudinal do imóvel - tipo float;\n",
        "* `room_type` - Tipo de acomodação - tipo string;\n",
        "* `price` - Preço do aluguél do imóvel em US$ - tipo float;\n",
        "* `minimum_nights` - Quantidade mínima de diárias para alugar o imóvel - tipo integer;\n",
        "* `number_of_reviews` - Quantidade de avaliações do imóvel - tipo integer;\n",
        "* `last_review` - Data da última avaliação - tipo string;\n",
        "* `reviews_per_month` - Média de avaliações mensais - tipo float;\n",
        "* `calculated_host_listings_count` - Quantidade de imóveis anunciados pelo mesmo anfitrião - tipo integer;\n",
        "* `availability_365` - Quantidade de dias de disponibilidade do imóvel em 365 dias - tipo integer; \n",
        "* `number_of_reviews_ltm` - Quantidade de avaliações do imóvel em 12 meses - tipo integer;\n",
        "* `license` - Número de registro/licença/permissão - tipo string.\n",
        "\n",
        "\n",
        "Antes de iniciar qualquer análise, vamos verificar a cara do nosso *dataset*, analisando as 5 primeiras entradas."
      ],
      "metadata": {
        "id": "fzc83CKYtx7z"
      }
    },
    {
      "cell_type": "code",
      "source": [
        "df.head()"
      ],
      "metadata": {
        "colab": {
          "base_uri": "https://localhost:8080/",
          "height": 548
        },
        "id": "_unaJD8Qt3d-",
        "outputId": "148e8615-f24e-436f-c179-a90232c80167"
      },
      "execution_count": 4,
      "outputs": [
        {
          "output_type": "execute_result",
          "data": {
            "text/plain": [
              "       id                                              name  host_id  \\\n",
              "0   44077               cosy comfortable Irish cottage twin   193005   \n",
              "1  178860               Georgian House in Heart of City Ctr   856312   \n",
              "2   85156      Cosy Comfortable Irish Cottage  1 Double Bed   193005   \n",
              "3  159889                              Friendly Single Room   766611   \n",
              "4  181823  Comfy room 5k from Croke Park - near beach/town.   608225   \n",
              "\n",
              "  host_name  neighbourhood_group          neighbourhood  latitude  longitude  \\\n",
              "0    Teresa                  NaN  Dn Laoghaire-Rathdown  53.29178   -6.25792   \n",
              "1  Danielle                  NaN            Dublin City  53.33281   -6.26750   \n",
              "2    Teresa                  NaN  Dn Laoghaire-Rathdown  53.29209   -6.25624   \n",
              "3  Margaret                  NaN            Dublin City  53.39027   -6.23547   \n",
              "4     Norah                  NaN            Dublin City  53.33740   -6.22061   \n",
              "\n",
              "      room_type  price  minimum_nights  number_of_reviews last_review  \\\n",
              "0  Private room     70               3                258  2022-09-09   \n",
              "1  Private room     80               2                313  2021-08-19   \n",
              "2  Private room     67               3                210  2022-09-11   \n",
              "3  Private room     45               2                355  2022-09-01   \n",
              "4  Private room    139               1                 50  2019-05-16   \n",
              "\n",
              "   reviews_per_month  calculated_host_listings_count  availability_365  \\\n",
              "0               1.85                               2               104   \n",
              "1               2.57                               2                 0   \n",
              "2               1.53                               2               110   \n",
              "3               2.78                               3               290   \n",
              "4               0.37                               2                 2   \n",
              "\n",
              "   number_of_reviews_ltm  license  \n",
              "0                     31      NaN  \n",
              "1                      0      NaN  \n",
              "2                     28      NaN  \n",
              "3                     44      NaN  \n",
              "4                      0      NaN  "
            ],
            "text/html": [
              "\n",
              "  <div id=\"df-fe5df403-5a5e-4356-9f87-fa040de5a718\">\n",
              "    <div class=\"colab-df-container\">\n",
              "      <div>\n",
              "<style scoped>\n",
              "    .dataframe tbody tr th:only-of-type {\n",
              "        vertical-align: middle;\n",
              "    }\n",
              "\n",
              "    .dataframe tbody tr th {\n",
              "        vertical-align: top;\n",
              "    }\n",
              "\n",
              "    .dataframe thead th {\n",
              "        text-align: right;\n",
              "    }\n",
              "</style>\n",
              "<table border=\"1\" class=\"dataframe\">\n",
              "  <thead>\n",
              "    <tr style=\"text-align: right;\">\n",
              "      <th></th>\n",
              "      <th>id</th>\n",
              "      <th>name</th>\n",
              "      <th>host_id</th>\n",
              "      <th>host_name</th>\n",
              "      <th>neighbourhood_group</th>\n",
              "      <th>neighbourhood</th>\n",
              "      <th>latitude</th>\n",
              "      <th>longitude</th>\n",
              "      <th>room_type</th>\n",
              "      <th>price</th>\n",
              "      <th>minimum_nights</th>\n",
              "      <th>number_of_reviews</th>\n",
              "      <th>last_review</th>\n",
              "      <th>reviews_per_month</th>\n",
              "      <th>calculated_host_listings_count</th>\n",
              "      <th>availability_365</th>\n",
              "      <th>number_of_reviews_ltm</th>\n",
              "      <th>license</th>\n",
              "    </tr>\n",
              "  </thead>\n",
              "  <tbody>\n",
              "    <tr>\n",
              "      <th>0</th>\n",
              "      <td>44077</td>\n",
              "      <td>cosy comfortable Irish cottage twin</td>\n",
              "      <td>193005</td>\n",
              "      <td>Teresa</td>\n",
              "      <td>NaN</td>\n",
              "      <td>Dn Laoghaire-Rathdown</td>\n",
              "      <td>53.29178</td>\n",
              "      <td>-6.25792</td>\n",
              "      <td>Private room</td>\n",
              "      <td>70</td>\n",
              "      <td>3</td>\n",
              "      <td>258</td>\n",
              "      <td>2022-09-09</td>\n",
              "      <td>1.85</td>\n",
              "      <td>2</td>\n",
              "      <td>104</td>\n",
              "      <td>31</td>\n",
              "      <td>NaN</td>\n",
              "    </tr>\n",
              "    <tr>\n",
              "      <th>1</th>\n",
              "      <td>178860</td>\n",
              "      <td>Georgian House in Heart of City Ctr</td>\n",
              "      <td>856312</td>\n",
              "      <td>Danielle</td>\n",
              "      <td>NaN</td>\n",
              "      <td>Dublin City</td>\n",
              "      <td>53.33281</td>\n",
              "      <td>-6.26750</td>\n",
              "      <td>Private room</td>\n",
              "      <td>80</td>\n",
              "      <td>2</td>\n",
              "      <td>313</td>\n",
              "      <td>2021-08-19</td>\n",
              "      <td>2.57</td>\n",
              "      <td>2</td>\n",
              "      <td>0</td>\n",
              "      <td>0</td>\n",
              "      <td>NaN</td>\n",
              "    </tr>\n",
              "    <tr>\n",
              "      <th>2</th>\n",
              "      <td>85156</td>\n",
              "      <td>Cosy Comfortable Irish Cottage  1 Double Bed</td>\n",
              "      <td>193005</td>\n",
              "      <td>Teresa</td>\n",
              "      <td>NaN</td>\n",
              "      <td>Dn Laoghaire-Rathdown</td>\n",
              "      <td>53.29209</td>\n",
              "      <td>-6.25624</td>\n",
              "      <td>Private room</td>\n",
              "      <td>67</td>\n",
              "      <td>3</td>\n",
              "      <td>210</td>\n",
              "      <td>2022-09-11</td>\n",
              "      <td>1.53</td>\n",
              "      <td>2</td>\n",
              "      <td>110</td>\n",
              "      <td>28</td>\n",
              "      <td>NaN</td>\n",
              "    </tr>\n",
              "    <tr>\n",
              "      <th>3</th>\n",
              "      <td>159889</td>\n",
              "      <td>Friendly Single Room</td>\n",
              "      <td>766611</td>\n",
              "      <td>Margaret</td>\n",
              "      <td>NaN</td>\n",
              "      <td>Dublin City</td>\n",
              "      <td>53.39027</td>\n",
              "      <td>-6.23547</td>\n",
              "      <td>Private room</td>\n",
              "      <td>45</td>\n",
              "      <td>2</td>\n",
              "      <td>355</td>\n",
              "      <td>2022-09-01</td>\n",
              "      <td>2.78</td>\n",
              "      <td>3</td>\n",
              "      <td>290</td>\n",
              "      <td>44</td>\n",
              "      <td>NaN</td>\n",
              "    </tr>\n",
              "    <tr>\n",
              "      <th>4</th>\n",
              "      <td>181823</td>\n",
              "      <td>Comfy room 5k from Croke Park - near beach/town.</td>\n",
              "      <td>608225</td>\n",
              "      <td>Norah</td>\n",
              "      <td>NaN</td>\n",
              "      <td>Dublin City</td>\n",
              "      <td>53.33740</td>\n",
              "      <td>-6.22061</td>\n",
              "      <td>Private room</td>\n",
              "      <td>139</td>\n",
              "      <td>1</td>\n",
              "      <td>50</td>\n",
              "      <td>2019-05-16</td>\n",
              "      <td>0.37</td>\n",
              "      <td>2</td>\n",
              "      <td>2</td>\n",
              "      <td>0</td>\n",
              "      <td>NaN</td>\n",
              "    </tr>\n",
              "  </tbody>\n",
              "</table>\n",
              "</div>\n",
              "      <button class=\"colab-df-convert\" onclick=\"convertToInteractive('df-fe5df403-5a5e-4356-9f87-fa040de5a718')\"\n",
              "              title=\"Convert this dataframe to an interactive table.\"\n",
              "              style=\"display:none;\">\n",
              "        \n",
              "  <svg xmlns=\"http://www.w3.org/2000/svg\" height=\"24px\"viewBox=\"0 0 24 24\"\n",
              "       width=\"24px\">\n",
              "    <path d=\"M0 0h24v24H0V0z\" fill=\"none\"/>\n",
              "    <path d=\"M18.56 5.44l.94 2.06.94-2.06 2.06-.94-2.06-.94-.94-2.06-.94 2.06-2.06.94zm-11 1L8.5 8.5l.94-2.06 2.06-.94-2.06-.94L8.5 2.5l-.94 2.06-2.06.94zm10 10l.94 2.06.94-2.06 2.06-.94-2.06-.94-.94-2.06-.94 2.06-2.06.94z\"/><path d=\"M17.41 7.96l-1.37-1.37c-.4-.4-.92-.59-1.43-.59-.52 0-1.04.2-1.43.59L10.3 9.45l-7.72 7.72c-.78.78-.78 2.05 0 2.83L4 21.41c.39.39.9.59 1.41.59.51 0 1.02-.2 1.41-.59l7.78-7.78 2.81-2.81c.8-.78.8-2.07 0-2.86zM5.41 20L4 18.59l7.72-7.72 1.47 1.35L5.41 20z\"/>\n",
              "  </svg>\n",
              "      </button>\n",
              "      \n",
              "  <style>\n",
              "    .colab-df-container {\n",
              "      display:flex;\n",
              "      flex-wrap:wrap;\n",
              "      gap: 12px;\n",
              "    }\n",
              "\n",
              "    .colab-df-convert {\n",
              "      background-color: #E8F0FE;\n",
              "      border: none;\n",
              "      border-radius: 50%;\n",
              "      cursor: pointer;\n",
              "      display: none;\n",
              "      fill: #1967D2;\n",
              "      height: 32px;\n",
              "      padding: 0 0 0 0;\n",
              "      width: 32px;\n",
              "    }\n",
              "\n",
              "    .colab-df-convert:hover {\n",
              "      background-color: #E2EBFA;\n",
              "      box-shadow: 0px 1px 2px rgba(60, 64, 67, 0.3), 0px 1px 3px 1px rgba(60, 64, 67, 0.15);\n",
              "      fill: #174EA6;\n",
              "    }\n",
              "\n",
              "    [theme=dark] .colab-df-convert {\n",
              "      background-color: #3B4455;\n",
              "      fill: #D2E3FC;\n",
              "    }\n",
              "\n",
              "    [theme=dark] .colab-df-convert:hover {\n",
              "      background-color: #434B5C;\n",
              "      box-shadow: 0px 1px 3px 1px rgba(0, 0, 0, 0.15);\n",
              "      filter: drop-shadow(0px 1px 2px rgba(0, 0, 0, 0.3));\n",
              "      fill: #FFFFFF;\n",
              "    }\n",
              "  </style>\n",
              "\n",
              "      <script>\n",
              "        const buttonEl =\n",
              "          document.querySelector('#df-fe5df403-5a5e-4356-9f87-fa040de5a718 button.colab-df-convert');\n",
              "        buttonEl.style.display =\n",
              "          google.colab.kernel.accessAllowed ? 'block' : 'none';\n",
              "\n",
              "        async function convertToInteractive(key) {\n",
              "          const element = document.querySelector('#df-fe5df403-5a5e-4356-9f87-fa040de5a718');\n",
              "          const dataTable =\n",
              "            await google.colab.kernel.invokeFunction('convertToInteractive',\n",
              "                                                     [key], {});\n",
              "          if (!dataTable) return;\n",
              "\n",
              "          const docLinkHtml = 'Like what you see? Visit the ' +\n",
              "            '<a target=\"_blank\" href=https://colab.research.google.com/notebooks/data_table.ipynb>data table notebook</a>'\n",
              "            + ' to learn more about interactive tables.';\n",
              "          element.innerHTML = '';\n",
              "          dataTable['output_type'] = 'display_data';\n",
              "          await google.colab.output.renderOutput(dataTable, element);\n",
              "          const docLink = document.createElement('div');\n",
              "          docLink.innerHTML = docLinkHtml;\n",
              "          element.appendChild(docLink);\n",
              "        }\n",
              "      </script>\n",
              "    </div>\n",
              "  </div>\n",
              "  "
            ]
          },
          "metadata": {},
          "execution_count": 4
        }
      ]
    },
    {
      "cell_type": "markdown",
      "source": [
        "**Analisando as variáveis do dataset**\n",
        "\n",
        "Antes de tudo, é necessário verificar a quantidade de entradas e variáveis no nosso dataset, e também o tipo do valor correspondente a cada uma das colunas."
      ],
      "metadata": {
        "id": "Jp_9kCqbt8No"
      }
    },
    {
      "cell_type": "code",
      "source": [
        "print('Entradas:\\t {}'.format(df.shape[0]))\n",
        "print('Variáveis:\\t {}'.format(df.shape[1]))\n",
        "\n",
        "display(df.dtypes)"
      ],
      "metadata": {
        "colab": {
          "base_uri": "https://localhost:8080/",
          "height": 382
        },
        "id": "tjfWx26Pt9EW",
        "outputId": "606ff840-a4d2-442c-cc5a-d33cfcdb0040"
      },
      "execution_count": 5,
      "outputs": [
        {
          "output_type": "stream",
          "name": "stdout",
          "text": [
            "Entradas:\t 7566\n",
            "Variáveis:\t 18\n"
          ]
        },
        {
          "output_type": "display_data",
          "data": {
            "text/plain": [
              "id                                  int64\n",
              "name                               object\n",
              "host_id                             int64\n",
              "host_name                          object\n",
              "neighbourhood_group               float64\n",
              "neighbourhood                      object\n",
              "latitude                          float64\n",
              "longitude                         float64\n",
              "room_type                          object\n",
              "price                               int64\n",
              "minimum_nights                      int64\n",
              "number_of_reviews                   int64\n",
              "last_review                        object\n",
              "reviews_per_month                 float64\n",
              "calculated_host_listings_count      int64\n",
              "availability_365                    int64\n",
              "number_of_reviews_ltm               int64\n",
              "license                           float64\n",
              "dtype: object"
            ]
          },
          "metadata": {}
        }
      ]
    },
    {
      "cell_type": "markdown",
      "source": [
        "**Procurando valores nulos no dataset**\n",
        "\n",
        "\n",
        "A qualidade de um dataset está diretamente relacionada à quantidade de valores ausentes. É importante entender logo no início se esses valores nulos são significativos comparados ao total de entradas.\n",
        "\n",
        "* É possível ver que as variáveis `license` e `neighbourhood_group` têm 100% de seus valores ausentes.\n",
        "* As variáveis `reviews_per_month` e `last_review` contém quase 20% de seus valores ausentes."
      ],
      "metadata": {
        "id": "MI1zObRKuKY4"
      }
    },
    {
      "cell_type": "code",
      "source": [
        "(df.isnull().sum() / df.shape[0]).sort_values(ascending=False)"
      ],
      "metadata": {
        "colab": {
          "base_uri": "https://localhost:8080/"
        },
        "id": "-NbYi0Bxujn4",
        "outputId": "bacef6cb-9f87-49ea-ccbf-ae9c33d8df2d"
      },
      "execution_count": 6,
      "outputs": [
        {
          "output_type": "execute_result",
          "data": {
            "text/plain": [
              "license                           1.000000\n",
              "neighbourhood_group               1.000000\n",
              "reviews_per_month                 0.179355\n",
              "last_review                       0.179355\n",
              "minimum_nights                    0.000000\n",
              "number_of_reviews_ltm             0.000000\n",
              "availability_365                  0.000000\n",
              "calculated_host_listings_count    0.000000\n",
              "number_of_reviews                 0.000000\n",
              "id                                0.000000\n",
              "name                              0.000000\n",
              "room_type                         0.000000\n",
              "longitude                         0.000000\n",
              "latitude                          0.000000\n",
              "neighbourhood                     0.000000\n",
              "host_name                         0.000000\n",
              "host_id                           0.000000\n",
              "price                             0.000000\n",
              "dtype: float64"
            ]
          },
          "metadata": {},
          "execution_count": 6
        }
      ]
    },
    {
      "cell_type": "markdown",
      "source": [
        "**Distribuição das variáveis**\n",
        "\n",
        "Para visualizar a distribuição das variáveis, iremos plotar o histograma:"
      ],
      "metadata": {
        "id": "Tis-acxMwmmN"
      }
    },
    {
      "cell_type": "code",
      "source": [
        "df.hist(bins=15, figsize=(15,10));"
      ],
      "metadata": {
        "colab": {
          "base_uri": "https://localhost:8080/",
          "height": 607
        },
        "id": "AQfpF8X-vMNL",
        "outputId": "50c68f46-4e30-48db-9986-f6b10a23ac1c"
      },
      "execution_count": 7,
      "outputs": [
        {
          "output_type": "display_data",
          "data": {
            "text/plain": [
              "<Figure size 1080x720 with 16 Axes>"
            ],
            "image/png": "[encoded data removed]"
          },
          "metadata": {
            "needs_background": "light"
          }
        }
      ]
    },
    {
      "cell_type": "markdown",
      "source": [
        "**Identificando outliers**\n",
        "\n",
        "Pela distribuição dos histogramas, é possível verificar indícios da presença de outliers. Por exemplo, nas variáveis `price` e `minimum_nights`.\n",
        "\n",
        "Os valores não seguem uma distribuição e distorcem toda a representação gráfica. Para confirmar, há duas maneiras rápidas que auxiliam na detecção de outliers. São elas:\n",
        "\n",
        "* Resumo estatístico por meio do método `describe()`\n",
        "* Plotar `boxplots` para a variável."
      ],
      "metadata": {
        "id": "0ZLBXkFGxMje"
      }
    },
    {
      "cell_type": "code",
      "source": [
        "df[['price', 'minimum_nights', 'number_of_reviews', 'reviews_per_month',\n",
        "    'calculated_host_listings_count',]].describe()"
      ],
      "metadata": {
        "colab": {
          "base_uri": "https://localhost:8080/",
          "height": 300
        },
        "id": "FEzWNHqdvRP5",
        "outputId": "115b05b9-a81b-4f88-9bd2-40757cf3a25a"
      },
      "execution_count": 8,
      "outputs": [
        {
          "output_type": "execute_result",
          "data": {
            "text/plain": [
              "              price  minimum_nights  number_of_reviews  reviews_per_month  \\\n",
              "count   7566.000000     7566.000000        7566.000000        6209.000000   \n",
              "mean     182.327914        6.253899          32.141554           1.319006   \n",
              "std     1170.750217       28.165241          65.581141           1.988691   \n",
              "min       10.000000        1.000000           0.000000           0.010000   \n",
              "25%       65.000000        1.000000           1.000000           0.130000   \n",
              "50%      105.000000        2.000000           7.000000           0.610000   \n",
              "75%      192.750000        4.000000          30.000000           1.760000   \n",
              "max    99149.000000     1125.000000         770.000000          44.720000   \n",
              "\n",
              "       calculated_host_listings_count  \n",
              "count                     7566.000000  \n",
              "mean                         4.160983  \n",
              "std                          9.654986  \n",
              "min                          1.000000  \n",
              "25%                          1.000000  \n",
              "50%                          1.000000  \n",
              "75%                          3.000000  \n",
              "max                         66.000000  "
            ],
            "text/html": [
              "\n",
              "  <div id=\"df-31f78daa-2996-42dd-bff8-29ddbaa62e63\">\n",
              "    <div class=\"colab-df-container\">\n",
              "      <div>\n",
              "<style scoped>\n",
              "    .dataframe tbody tr th:only-of-type {\n",
              "        vertical-align: middle;\n",
              "    }\n",
              "\n",
              "    .dataframe tbody tr th {\n",
              "        vertical-align: top;\n",
              "    }\n",
              "\n",
              "    .dataframe thead th {\n",
              "        text-align: right;\n",
              "    }\n",
              "</style>\n",
              "<table border=\"1\" class=\"dataframe\">\n",
              "  <thead>\n",
              "    <tr style=\"text-align: right;\">\n",
              "      <th></th>\n",
              "      <th>price</th>\n",
              "      <th>minimum_nights</th>\n",
              "      <th>number_of_reviews</th>\n",
              "      <th>reviews_per_month</th>\n",
              "      <th>calculated_host_listings_count</th>\n",
              "    </tr>\n",
              "  </thead>\n",
              "  <tbody>\n",
              "    <tr>\n",
              "      <th>count</th>\n",
              "      <td>7566.000000</td>\n",
              "      <td>7566.000000</td>\n",
              "      <td>7566.000000</td>\n",
              "      <td>6209.000000</td>\n",
              "      <td>7566.000000</td>\n",
              "    </tr>\n",
              "    <tr>\n",
              "      <th>mean</th>\n",
              "      <td>182.327914</td>\n",
              "      <td>6.253899</td>\n",
              "      <td>32.141554</td>\n",
              "      <td>1.319006</td>\n",
              "      <td>4.160983</td>\n",
              "    </tr>\n",
              "    <tr>\n",
              "      <th>std</th>\n",
              "      <td>1170.750217</td>\n",
              "      <td>28.165241</td>\n",
              "      <td>65.581141</td>\n",
              "      <td>1.988691</td>\n",
              "      <td>9.654986</td>\n",
              "    </tr>\n",
              "    <tr>\n",
              "      <th>min</th>\n",
              "      <td>10.000000</td>\n",
              "      <td>1.000000</td>\n",
              "      <td>0.000000</td>\n",
              "      <td>0.010000</td>\n",
              "      <td>1.000000</td>\n",
              "    </tr>\n",
              "    <tr>\n",
              "      <th>25%</th>\n",
              "      <td>65.000000</td>\n",
              "      <td>1.000000</td>\n",
              "      <td>1.000000</td>\n",
              "      <td>0.130000</td>\n",
              "      <td>1.000000</td>\n",
              "    </tr>\n",
              "    <tr>\n",
              "      <th>50%</th>\n",
              "      <td>105.000000</td>\n",
              "      <td>2.000000</td>\n",
              "      <td>7.000000</td>\n",
              "      <td>0.610000</td>\n",
              "      <td>1.000000</td>\n",
              "    </tr>\n",
              "    <tr>\n",
              "      <th>75%</th>\n",
              "      <td>192.750000</td>\n",
              "      <td>4.000000</td>\n",
              "      <td>30.000000</td>\n",
              "      <td>1.760000</td>\n",
              "      <td>3.000000</td>\n",
              "    </tr>\n",
              "    <tr>\n",
              "      <th>max</th>\n",
              "      <td>99149.000000</td>\n",
              "      <td>1125.000000</td>\n",
              "      <td>770.000000</td>\n",
              "      <td>44.720000</td>\n",
              "      <td>66.000000</td>\n",
              "    </tr>\n",
              "  </tbody>\n",
              "</table>\n",
              "</div>\n",
              "      <button class=\"colab-df-convert\" onclick=\"convertToInteractive('df-31f78daa-2996-42dd-bff8-29ddbaa62e63')\"\n",
              "              title=\"Convert this dataframe to an interactive table.\"\n",
              "              style=\"display:none;\">\n",
              "        \n",
              "  <svg xmlns=\"http://www.w3.org/2000/svg\" height=\"24px\"viewBox=\"0 0 24 24\"\n",
              "       width=\"24px\">\n",
              "    <path d=\"M0 0h24v24H0V0z\" fill=\"none\"/>\n",
              "    <path d=\"M18.56 5.44l.94 2.06.94-2.06 2.06-.94-2.06-.94-.94-2.06-.94 2.06-2.06.94zm-11 1L8.5 8.5l.94-2.06 2.06-.94-2.06-.94L8.5 2.5l-.94 2.06-2.06.94zm10 10l.94 2.06.94-2.06 2.06-.94-2.06-.94-.94-2.06-.94 2.06-2.06.94z\"/><path d=\"M17.41 7.96l-1.37-1.37c-.4-.4-.92-.59-1.43-.59-.52 0-1.04.2-1.43.59L10.3 9.45l-7.72 7.72c-.78.78-.78 2.05 0 2.83L4 21.41c.39.39.9.59 1.41.59.51 0 1.02-.2 1.41-.59l7.78-7.78 2.81-2.81c.8-.78.8-2.07 0-2.86zM5.41 20L4 18.59l7.72-7.72 1.47 1.35L5.41 20z\"/>\n",
              "  </svg>\n",
              "      </button>\n",
              "      \n",
              "  <style>\n",
              "    .colab-df-container {\n",
              "      display:flex;\n",
              "      flex-wrap:wrap;\n",
              "      gap: 12px;\n",
              "    }\n",
              "\n",
              "    .colab-df-convert {\n",
              "      background-color: #E8F0FE;\n",
              "      border: none;\n",
              "      border-radius: 50%;\n",
              "      cursor: pointer;\n",
              "      display: none;\n",
              "      fill: #1967D2;\n",
              "      height: 32px;\n",
              "      padding: 0 0 0 0;\n",
              "      width: 32px;\n",
              "    }\n",
              "\n",
              "    .colab-df-convert:hover {\n",
              "      background-color: #E2EBFA;\n",
              "      box-shadow: 0px 1px 2px rgba(60, 64, 67, 0.3), 0px 1px 3px 1px rgba(60, 64, 67, 0.15);\n",
              "      fill: #174EA6;\n",
              "    }\n",
              "\n",
              "    [theme=dark] .colab-df-convert {\n",
              "      background-color: #3B4455;\n",
              "      fill: #D2E3FC;\n",
              "    }\n",
              "\n",
              "    [theme=dark] .colab-df-convert:hover {\n",
              "      background-color: #434B5C;\n",
              "      box-shadow: 0px 1px 3px 1px rgba(0, 0, 0, 0.15);\n",
              "      filter: drop-shadow(0px 1px 2px rgba(0, 0, 0, 0.3));\n",
              "      fill: #FFFFFF;\n",
              "    }\n",
              "  </style>\n",
              "\n",
              "      <script>\n",
              "        const buttonEl =\n",
              "          document.querySelector('#df-31f78daa-2996-42dd-bff8-29ddbaa62e63 button.colab-df-convert');\n",
              "        buttonEl.style.display =\n",
              "          google.colab.kernel.accessAllowed ? 'block' : 'none';\n",
              "\n",
              "        async function convertToInteractive(key) {\n",
              "          const element = document.querySelector('#df-31f78daa-2996-42dd-bff8-29ddbaa62e63');\n",
              "          const dataTable =\n",
              "            await google.colab.kernel.invokeFunction('convertToInteractive',\n",
              "                                                     [key], {});\n",
              "          if (!dataTable) return;\n",
              "\n",
              "          const docLinkHtml = 'Like what you see? Visit the ' +\n",
              "            '<a target=\"_blank\" href=https://colab.research.google.com/notebooks/data_table.ipynb>data table notebook</a>'\n",
              "            + ' to learn more about interactive tables.';\n",
              "          element.innerHTML = '';\n",
              "          dataTable['output_type'] = 'display_data';\n",
              "          await google.colab.output.renderOutput(dataTable, element);\n",
              "          const docLink = document.createElement('div');\n",
              "          docLink.innerHTML = docLinkHtml;\n",
              "          element.appendChild(docLink);\n",
              "        }\n",
              "      </script>\n",
              "    </div>\n",
              "  </div>\n",
              "  "
            ]
          },
          "metadata": {},
          "execution_count": 8
        }
      ]
    },
    {
      "cell_type": "markdown",
      "source": [
        "Olhando o resumo estatístico acima, podemos confirmar algumas hipóteses como:\n",
        "\n",
        "* A variável `price` possui 75% do valor abaixo de 192, porém seu valor máximo é 99149.000000.\n",
        "* A quantidade máxima de noites (`minimum_nights`) está muito acima dos 365 dias de um ano."
      ],
      "metadata": {
        "id": "OTF59evFyIpZ"
      }
    },
    {
      "cell_type": "markdown",
      "source": [
        "**Boxplot para minimum_nights**"
      ],
      "metadata": {
        "id": "kJWZrp8WyhEJ"
      }
    },
    {
      "cell_type": "code",
      "source": [
        "df.minimum_nights.plot(kind='box', vert=False, figsize=(15,3))\n",
        "plt.show()"
      ],
      "metadata": {
        "colab": {
          "base_uri": "https://localhost:8080/",
          "height": 211
        },
        "id": "bmTJb8-CvSMx",
        "outputId": "2fe79ab9-1542-41e6-fb33-c49c42b62731"
      },
      "execution_count": 9,
      "outputs": [
        {
          "output_type": "display_data",
          "data": {
            "text/plain": [
              "<Figure size 1080x216 with 1 Axes>"
            ],
            "image/png": "[encoded data removed]"
          },
          "metadata": {
            "needs_background": "light"
          }
        }
      ]
    },
    {
      "cell_type": "code",
      "source": [
        "df.price.plot(kind='box', vert=False, figsize=(15,3))\n",
        "plt.show()"
      ],
      "metadata": {
        "colab": {
          "base_uri": "https://localhost:8080/",
          "height": 211
        },
        "id": "9AmXZq-YvU52",
        "outputId": "9c16736a-c0b8-41f3-94f7-65d1c70c7593"
      },
      "execution_count": 10,
      "outputs": [
        {
          "output_type": "display_data",
          "data": {
            "text/plain": [
              "<Figure size 1080x216 with 1 Axes>"
            ],
            "image/png": "[encoded data removed]"
          },
          "metadata": {
            "needs_background": "light"
          }
        }
      ]
    },
    {
      "cell_type": "markdown",
      "source": [
        "**Removendo outliers**\n",
        "\n",
        "Para tratar dos outliers desse conjunto de dados, iremos analisar a distribuição estatística, plotar boxplots e calcular os limites utilizando a regra do IQR Score.\n",
        "\n",
        "Primeiramente, vamos lembrar o que é o IQR.\n",
        "\n",
        "O IQR é calculado subtraindo o Terceiro Quartil (75%) pelo Primeiro Quartil (25%).\n",
        "\n",
        "**IQR = Q3 - Q1**\n",
        "\n",
        "Vamos dar uma olhada nos nossos dados.\n",
        "\n"
      ],
      "metadata": {
        "id": "n-ZcDAGE13Dv"
      }
    },
    {
      "cell_type": "markdown",
      "source": [
        "Antes de tudo, iremos excluir as colunas e entradas cujos valores são nulos:"
      ],
      "metadata": {
        "id": "naBTG5JI3gNc"
      }
    },
    {
      "cell_type": "code",
      "source": [
        "#excluir as coluna 'neighbourhood_group' 'license'\n",
        "df.drop(columns=['neighbourhood_group', 'license'], inplace=True)\n",
        "\n",
        "#excluindo entradas com dados faltantes\n",
        "df.dropna(axis=0, inplace=True)"
      ],
      "metadata": {
        "id": "ZMi-I2B5vXI4"
      },
      "execution_count": 11,
      "outputs": []
    },
    {
      "cell_type": "code",
      "source": [
        "#dataset sem valores faltantes\n",
        "(df.isnull().sum()).sort_values(ascending=False)"
      ],
      "metadata": {
        "colab": {
          "base_uri": "https://localhost:8080/"
        },
        "id": "7qan6q1FvbIj",
        "outputId": "45707a69-e477-4b67-8c41-74eac1324195"
      },
      "execution_count": 12,
      "outputs": [
        {
          "output_type": "execute_result",
          "data": {
            "text/plain": [
              "id                                0\n",
              "name                              0\n",
              "host_id                           0\n",
              "host_name                         0\n",
              "neighbourhood                     0\n",
              "latitude                          0\n",
              "longitude                         0\n",
              "room_type                         0\n",
              "price                             0\n",
              "minimum_nights                    0\n",
              "number_of_reviews                 0\n",
              "last_review                       0\n",
              "reviews_per_month                 0\n",
              "calculated_host_listings_count    0\n",
              "availability_365                  0\n",
              "number_of_reviews_ltm             0\n",
              "dtype: int64"
            ]
          },
          "metadata": {},
          "execution_count": 12
        }
      ]
    },
    {
      "cell_type": "markdown",
      "source": [
        "Agora, vamos aos outliers."
      ],
      "metadata": {
        "id": "6syAZKih3974"
      }
    },
    {
      "cell_type": "code",
      "source": [
        "#analisando as variáveis que serão tratadas\n",
        "df[['price', 'minimum_nights']].describe()"
      ],
      "metadata": {
        "colab": {
          "base_uri": "https://localhost:8080/",
          "height": 300
        },
        "id": "cgTy4tuDvf7G",
        "outputId": "39293301-dc64-4947-db58-271f03b667ce"
      },
      "execution_count": 13,
      "outputs": [
        {
          "output_type": "execute_result",
          "data": {
            "text/plain": [
              "              price  minimum_nights\n",
              "count   6209.000000     6209.000000\n",
              "mean     178.043807        5.783540\n",
              "std     1285.661209       26.763868\n",
              "min       10.000000        1.000000\n",
              "25%       65.000000        1.000000\n",
              "50%      104.000000        2.000000\n",
              "75%      182.000000        3.000000\n",
              "max    99149.000000     1125.000000"
            ],
            "text/html": [
              "\n",
              "  <div id=\"df-bff40ce3-d1be-4ef2-8c6a-128a986f9840\">\n",
              "    <div class=\"colab-df-container\">\n",
              "      <div>\n",
              "<style scoped>\n",
              "    .dataframe tbody tr th:only-of-type {\n",
              "        vertical-align: middle;\n",
              "    }\n",
              "\n",
              "    .dataframe tbody tr th {\n",
              "        vertical-align: top;\n",
              "    }\n",
              "\n",
              "    .dataframe thead th {\n",
              "        text-align: right;\n",
              "    }\n",
              "</style>\n",
              "<table border=\"1\" class=\"dataframe\">\n",
              "  <thead>\n",
              "    <tr style=\"text-align: right;\">\n",
              "      <th></th>\n",
              "      <th>price</th>\n",
              "      <th>minimum_nights</th>\n",
              "    </tr>\n",
              "  </thead>\n",
              "  <tbody>\n",
              "    <tr>\n",
              "      <th>count</th>\n",
              "      <td>6209.000000</td>\n",
              "      <td>6209.000000</td>\n",
              "    </tr>\n",
              "    <tr>\n",
              "      <th>mean</th>\n",
              "      <td>178.043807</td>\n",
              "      <td>5.783540</td>\n",
              "    </tr>\n",
              "    <tr>\n",
              "      <th>std</th>\n",
              "      <td>1285.661209</td>\n",
              "      <td>26.763868</td>\n",
              "    </tr>\n",
              "    <tr>\n",
              "      <th>min</th>\n",
              "      <td>10.000000</td>\n",
              "      <td>1.000000</td>\n",
              "    </tr>\n",
              "    <tr>\n",
              "      <th>25%</th>\n",
              "      <td>65.000000</td>\n",
              "      <td>1.000000</td>\n",
              "    </tr>\n",
              "    <tr>\n",
              "      <th>50%</th>\n",
              "      <td>104.000000</td>\n",
              "      <td>2.000000</td>\n",
              "    </tr>\n",
              "    <tr>\n",
              "      <th>75%</th>\n",
              "      <td>182.000000</td>\n",
              "      <td>3.000000</td>\n",
              "    </tr>\n",
              "    <tr>\n",
              "      <th>max</th>\n",
              "      <td>99149.000000</td>\n",
              "      <td>1125.000000</td>\n",
              "    </tr>\n",
              "  </tbody>\n",
              "</table>\n",
              "</div>\n",
              "      <button class=\"colab-df-convert\" onclick=\"convertToInteractive('df-bff40ce3-d1be-4ef2-8c6a-128a986f9840')\"\n",
              "              title=\"Convert this dataframe to an interactive table.\"\n",
              "              style=\"display:none;\">\n",
              "        \n",
              "  <svg xmlns=\"http://www.w3.org/2000/svg\" height=\"24px\"viewBox=\"0 0 24 24\"\n",
              "       width=\"24px\">\n",
              "    <path d=\"M0 0h24v24H0V0z\" fill=\"none\"/>\n",
              "    <path d=\"M18.56 5.44l.94 2.06.94-2.06 2.06-.94-2.06-.94-.94-2.06-.94 2.06-2.06.94zm-11 1L8.5 8.5l.94-2.06 2.06-.94-2.06-.94L8.5 2.5l-.94 2.06-2.06.94zm10 10l.94 2.06.94-2.06 2.06-.94-2.06-.94-.94-2.06-.94 2.06-2.06.94z\"/><path d=\"M17.41 7.96l-1.37-1.37c-.4-.4-.92-.59-1.43-.59-.52 0-1.04.2-1.43.59L10.3 9.45l-7.72 7.72c-.78.78-.78 2.05 0 2.83L4 21.41c.39.39.9.59 1.41.59.51 0 1.02-.2 1.41-.59l7.78-7.78 2.81-2.81c.8-.78.8-2.07 0-2.86zM5.41 20L4 18.59l7.72-7.72 1.47 1.35L5.41 20z\"/>\n",
              "  </svg>\n",
              "      </button>\n",
              "      \n",
              "  <style>\n",
              "    .colab-df-container {\n",
              "      display:flex;\n",
              "      flex-wrap:wrap;\n",
              "      gap: 12px;\n",
              "    }\n",
              "\n",
              "    .colab-df-convert {\n",
              "      background-color: #E8F0FE;\n",
              "      border: none;\n",
              "      border-radius: 50%;\n",
              "      cursor: pointer;\n",
              "      display: none;\n",
              "      fill: #1967D2;\n",
              "      height: 32px;\n",
              "      padding: 0 0 0 0;\n",
              "      width: 32px;\n",
              "    }\n",
              "\n",
              "    .colab-df-convert:hover {\n",
              "      background-color: #E2EBFA;\n",
              "      box-shadow: 0px 1px 2px rgba(60, 64, 67, 0.3), 0px 1px 3px 1px rgba(60, 64, 67, 0.15);\n",
              "      fill: #174EA6;\n",
              "    }\n",
              "\n",
              "    [theme=dark] .colab-df-convert {\n",
              "      background-color: #3B4455;\n",
              "      fill: #D2E3FC;\n",
              "    }\n",
              "\n",
              "    [theme=dark] .colab-df-convert:hover {\n",
              "      background-color: #434B5C;\n",
              "      box-shadow: 0px 1px 3px 1px rgba(0, 0, 0, 0.15);\n",
              "      filter: drop-shadow(0px 1px 2px rgba(0, 0, 0, 0.3));\n",
              "      fill: #FFFFFF;\n",
              "    }\n",
              "  </style>\n",
              "\n",
              "      <script>\n",
              "        const buttonEl =\n",
              "          document.querySelector('#df-bff40ce3-d1be-4ef2-8c6a-128a986f9840 button.colab-df-convert');\n",
              "        buttonEl.style.display =\n",
              "          google.colab.kernel.accessAllowed ? 'block' : 'none';\n",
              "\n",
              "        async function convertToInteractive(key) {\n",
              "          const element = document.querySelector('#df-bff40ce3-d1be-4ef2-8c6a-128a986f9840');\n",
              "          const dataTable =\n",
              "            await google.colab.kernel.invokeFunction('convertToInteractive',\n",
              "                                                     [key], {});\n",
              "          if (!dataTable) return;\n",
              "\n",
              "          const docLinkHtml = 'Like what you see? Visit the ' +\n",
              "            '<a target=\"_blank\" href=https://colab.research.google.com/notebooks/data_table.ipynb>data table notebook</a>'\n",
              "            + ' to learn more about interactive tables.';\n",
              "          element.innerHTML = '';\n",
              "          dataTable['output_type'] = 'display_data';\n",
              "          await google.colab.output.renderOutput(dataTable, element);\n",
              "          const docLink = document.createElement('div');\n",
              "          docLink.innerHTML = docLinkHtml;\n",
              "          element.appendChild(docLink);\n",
              "        }\n",
              "      </script>\n",
              "    </div>\n",
              "  </div>\n",
              "  "
            ]
          },
          "metadata": {},
          "execution_count": 13
        }
      ]
    },
    {
      "cell_type": "code",
      "source": [
        "#identificando os outliers para a variável price\n",
        "q1_price = df.price.quantile(.25)\n",
        "q3_price = df.price.quantile(.75)\n",
        "IQR_price = q3_price - q1_price\n",
        "print('IQR da variável price: ', IQR_price)\n",
        "\n",
        "#definindo os limites \n",
        "sup_price = q3_price + 1.5 * IQR_price\n",
        "inf_price = q1_price - 1.5 * IQR_price\n",
        "\n",
        "print('Limite superior de price: ', sup_price)\n",
        "print('Limite inferior de price: ', inf_price)"
      ],
      "metadata": {
        "colab": {
          "base_uri": "https://localhost:8080/"
        },
        "id": "l0dudJJhvt8D",
        "outputId": "5854d9f6-ceeb-452f-fe11-54ba0f6e77a0"
      },
      "execution_count": 14,
      "outputs": [
        {
          "output_type": "stream",
          "name": "stdout",
          "text": [
            "IQR da variável price:  117.0\n",
            "Limite superior de price:  357.5\n",
            "Limite inferior de price:  -110.5\n"
          ]
        }
      ]
    },
    {
      "cell_type": "code",
      "source": [
        "#verificando o conjunto original\n",
        "fig, ax = plt.subplots(figsize=(15,3))\n",
        "df.price.plot(kind='box', vert=False);\n",
        "ax.set_title('Dataset Original - price')\n",
        "plt.show()\n",
        "print('O Dataset possui {} entradas'.format(df.shape[0]))\n",
        "print('{} entradas acima de 357.5'.format(len(df[df.price > 357.5])))\n",
        "print(\"Representam {:.2f}% do dataset\".format((len(df[df.price > 357.5]) / df.shape[0])*100))"
      ],
      "metadata": {
        "colab": {
          "base_uri": "https://localhost:8080/",
          "height": 279
        },
        "id": "lPvkS_OEv0qq",
        "outputId": "c3fdcb26-b872-4ad2-a040-7fa188f53eeb"
      },
      "execution_count": 15,
      "outputs": [
        {
          "output_type": "display_data",
          "data": {
            "text/plain": [
              "<Figure size 1080x216 with 1 Axes>"
            ],
            "image/png": "[encoded data removed]"
          },
          "metadata": {
            "needs_background": "light"
          }
        },
        {
          "output_type": "stream",
          "name": "stdout",
          "text": [
            "O Dataset possui 6209 entradas\n",
            "438 entradas acima de 357.5\n",
            "Representam 7.05% do dataset\n"
          ]
        }
      ]
    },
    {
      "cell_type": "markdown",
      "source": [
        "Na variável `price` foram encontrados 438 outliers, os quais representam 7.05% do dataset"
      ],
      "metadata": {
        "id": "85JZ0ohi4j_R"
      }
    },
    {
      "cell_type": "code",
      "source": [
        "#identificando os outliers para a variável minimum_nights\n",
        "q1_minimum_nights = df.minimum_nights.quantile(.25)\n",
        "q3_minimum_nights = df.minimum_nights.quantile(.75)\n",
        "IQR_minimum_nights = q3_minimum_nights - q1_minimum_nights\n",
        "print('IQR da variável minimum_nights: ', IQR_minimum_nights)\n",
        "\n",
        "#definindo os limites\n",
        "sup_minimum_nights = q3_minimum_nights + 1.5 * IQR_minimum_nights\n",
        "inf_minimum_nights = q1_minimum_nights - 1.5 * IQR_minimum_nights\n",
        "\n",
        "print('Limite superior de minimum_nights: ', sup_minimum_nights)\n",
        "print('Limite inferior de minimum_nights: ', inf_minimum_nights)"
      ],
      "metadata": {
        "colab": {
          "base_uri": "https://localhost:8080/"
        },
        "id": "XQXDyzw_v4BN",
        "outputId": "cdb7f140-cf33-452d-f208-9c656328789d"
      },
      "execution_count": 16,
      "outputs": [
        {
          "output_type": "stream",
          "name": "stdout",
          "text": [
            "IQR da variável minimum_nights:  2.0\n",
            "Limite superior de minimum_nights:  6.0\n",
            "Limite inferior de minimum_nights:  -2.0\n"
          ]
        }
      ]
    },
    {
      "cell_type": "code",
      "source": [
        "#verificando o conjunto original\n",
        "fig, ax = plt.subplots(figsize=(15,3))\n",
        "df.minimum_nights.plot(kind='box', vert=False);\n",
        "ax.set_title('Dataset Original - minimum_nights')\n",
        "plt.show()\n",
        "print('O dataset possui {} entradas'.format(df.shape[0]))\n",
        "print('{} Entradas acima de 6'.format(len(df[df.minimum_nights > 6])))\n",
        "print('Representam {:.2f}% do dataset'.format((len(df[df.minimum_nights > 6]) / df.shape[0])*100))"
      ],
      "metadata": {
        "colab": {
          "base_uri": "https://localhost:8080/",
          "height": 279
        },
        "id": "KmDSdYzAv7Hy",
        "outputId": "7f327031-db95-4427-9bf5-84926d7e3644"
      },
      "execution_count": 17,
      "outputs": [
        {
          "output_type": "display_data",
          "data": {
            "text/plain": [
              "<Figure size 1080x216 with 1 Axes>"
            ],
            "image/png": "[encoded data removed]"
          },
          "metadata": {
            "needs_background": "light"
          }
        },
        {
          "output_type": "stream",
          "name": "stdout",
          "text": [
            "O dataset possui 6209 entradas\n",
            "870 Entradas acima de 6\n",
            "Representam 14.01% do dataset\n"
          ]
        }
      ]
    },
    {
      "cell_type": "markdown",
      "source": [
        "Na variável `minimum_nights` foram encontrados 870 outliers, os quais representam 14% do dataset."
      ],
      "metadata": {
        "id": "wcZXNl6v4w5S"
      }
    },
    {
      "cell_type": "markdown",
      "source": [
        "**Concluindo a limpeza dos outliers**"
      ],
      "metadata": {
        "id": "rqXcwrOI5OVj"
      }
    },
    {
      "cell_type": "code",
      "source": [
        "#limpando o dataset\n",
        "df_clean = df.copy()\n",
        "\n",
        "df_clean.drop(df_clean[df_clean.price > 357.5].index, axis=0, inplace=True)\n",
        "df_clean.drop(df_clean[df_clean.price == 0].index, axis=0, inplace=True)\n",
        "df_clean.drop(df_clean[df_clean.minimum_nights > 6].index, axis=0, inplace=True)\n",
        "\n",
        "print('Shape antes da limpeza: ', df.shape)\n",
        "print('Shape depois da limpeza: ', df_clean.shape)"
      ],
      "metadata": {
        "colab": {
          "base_uri": "https://localhost:8080/"
        },
        "id": "jKa2UeFSv_fG",
        "outputId": "16156f6b-0ade-482c-e354-43bd295c5d2f"
      },
      "execution_count": 18,
      "outputs": [
        {
          "output_type": "stream",
          "name": "stdout",
          "text": [
            "Shape antes da limpeza:  (6209, 16)\n",
            "Shape depois da limpeza:  (4956, 16)\n"
          ]
        }
      ]
    },
    {
      "cell_type": "code",
      "source": [
        "#verificando os conjuntos limpos\n",
        "#price\n",
        "fig, ax = plt.subplots(figsize=(15,3))\n",
        "df_clean.price.plot(kind='box', vert=False);\n",
        "ax.set_title('Dataset limpo - price')\n",
        "plt.show()"
      ],
      "metadata": {
        "colab": {
          "base_uri": "https://localhost:8080/",
          "height": 227
        },
        "id": "7y-hobcFvh-C",
        "outputId": "9ebbbdc1-2f34-4045-d2a8-b8cc6022d209"
      },
      "execution_count": 19,
      "outputs": [
        {
          "output_type": "display_data",
          "data": {
            "text/plain": [
              "<Figure size 1080x216 with 1 Axes>"
            ],
            "image/png": "[encoded data removed]"
          },
          "metadata": {
            "needs_background": "light"
          }
        }
      ]
    },
    {
      "cell_type": "code",
      "source": [
        "#dataset limpo de minimum_nights\n",
        "fig, ax = plt.subplots(figsize=(15,3))\n",
        "df_clean.minimum_nights.plot(kind='box', vert=False);\n",
        "ax.set_title('Dataset limpo - minimum_nights')\n",
        "plt.show()"
      ],
      "metadata": {
        "colab": {
          "base_uri": "https://localhost:8080/",
          "height": 227
        },
        "id": "8BpoZpUqwEir",
        "outputId": "e0c28af3-9342-4683-9b82-5fe9d38ef2eb"
      },
      "execution_count": 20,
      "outputs": [
        {
          "output_type": "display_data",
          "data": {
            "text/plain": [
              "<Figure size 1080x216 with 1 Axes>"
            ],
            "image/png": "[encoded data removed]"
          },
          "metadata": {
            "needs_background": "light"
          }
        }
      ]
    },
    {
      "cell_type": "markdown",
      "source": [
        "**Histogramas sem outliers e variáveis vazias**"
      ],
      "metadata": {
        "id": "3nTweQ935eyJ"
      }
    },
    {
      "cell_type": "code",
      "source": [
        "#verificando as distribuições novamente\n",
        "df_clean.hist(figsize=(20,15),grid=False);"
      ],
      "metadata": {
        "colab": {
          "base_uri": "https://localhost:8080/",
          "height": 879
        },
        "id": "Jp2eryofwHMm",
        "outputId": "65280c3d-c5e4-46d7-8e5a-79ad3255ef32"
      },
      "execution_count": 31,
      "outputs": [
        {
          "output_type": "display_data",
          "data": {
            "text/plain": [
              "<Figure size 1440x1080 with 12 Axes>"
            ],
            "image/png": "[encoded data removed]"
          },
          "metadata": {
            "needs_background": "light"
          }
        }
      ]
    },
    {
      "cell_type": "code",
      "source": [
        "# verificando a distribuição estatística dos dados limpos\n",
        "df_clean.describe().round(1)"
      ],
      "metadata": {
        "colab": {
          "base_uri": "https://localhost:8080/",
          "height": 364
        },
        "id": "MQhgiMm6wJuU",
        "outputId": "b190855e-47df-4f98-8bee-614b4b9bdca4"
      },
      "execution_count": 22,
      "outputs": [
        {
          "output_type": "execute_result",
          "data": {
            "text/plain": [
              "                 id      host_id  latitude  longitude   price  minimum_nights  \\\n",
              "count  4.956000e+03       4956.0    4956.0     4956.0  4956.0          4956.0   \n",
              "mean   1.091481e+17  114757273.0      53.3       -6.3   116.0             2.1   \n",
              "std    2.419243e+17  123630380.8       0.1        0.1    74.1             1.2   \n",
              "min    4.407700e+04      43984.0      53.2       -6.5    10.0             1.0   \n",
              "25%    1.677861e+07   24261701.0      53.3       -6.3    60.0             1.0   \n",
              "50%    2.651411e+07   66948631.0      53.3       -6.3    95.0             2.0   \n",
              "75%    4.510179e+07  168279822.8      53.4       -6.2   150.0             3.0   \n",
              "max    7.100541e+17  478411072.0      53.6       -6.1   357.0             6.0   \n",
              "\n",
              "       number_of_reviews  reviews_per_month  calculated_host_listings_count  \\\n",
              "count             4956.0             4956.0                          4956.0   \n",
              "mean                40.0                1.4                             2.5   \n",
              "std                 72.4                2.1                             3.9   \n",
              "min                  1.0                0.0                             1.0   \n",
              "25%                  3.0                0.1                             1.0   \n",
              "50%                 11.0                0.6                             1.0   \n",
              "75%                 40.0                2.0                             2.0   \n",
              "max                725.0               44.7                            42.0   \n",
              "\n",
              "       availability_365  number_of_reviews_ltm  \n",
              "count            4956.0                 4956.0  \n",
              "mean               54.7                    9.6  \n",
              "std                99.0                   21.6  \n",
              "min                 0.0                    0.0  \n",
              "25%                 0.0                    0.0  \n",
              "50%                 0.0                    0.0  \n",
              "75%                62.0                   10.0  \n",
              "max               365.0                  528.0  "
            ],
            "text/html": [
              "\n",
              "  <div id=\"df-215260fc-6e23-4c1f-ada1-c4ba9a091a86\">\n",
              "    <div class=\"colab-df-container\">\n",
              "      <div>\n",
              "<style scoped>\n",
              "    .dataframe tbody tr th:only-of-type {\n",
              "        vertical-align: middle;\n",
              "    }\n",
              "\n",
              "    .dataframe tbody tr th {\n",
              "        vertical-align: top;\n",
              "    }\n",
              "\n",
              "    .dataframe thead th {\n",
              "        text-align: right;\n",
              "    }\n",
              "</style>\n",
              "<table border=\"1\" class=\"dataframe\">\n",
              "  <thead>\n",
              "    <tr style=\"text-align: right;\">\n",
              "      <th></th>\n",
              "      <th>id</th>\n",
              "      <th>host_id</th>\n",
              "      <th>latitude</th>\n",
              "      <th>longitude</th>\n",
              "      <th>price</th>\n",
              "      <th>minimum_nights</th>\n",
              "      <th>number_of_reviews</th>\n",
              "      <th>reviews_per_month</th>\n",
              "      <th>calculated_host_listings_count</th>\n",
              "      <th>availability_365</th>\n",
              "      <th>number_of_reviews_ltm</th>\n",
              "    </tr>\n",
              "  </thead>\n",
              "  <tbody>\n",
              "    <tr>\n",
              "      <th>count</th>\n",
              "      <td>4.956000e+03</td>\n",
              "      <td>4956.0</td>\n",
              "      <td>4956.0</td>\n",
              "      <td>4956.0</td>\n",
              "      <td>4956.0</td>\n",
              "      <td>4956.0</td>\n",
              "      <td>4956.0</td>\n",
              "      <td>4956.0</td>\n",
              "      <td>4956.0</td>\n",
              "      <td>4956.0</td>\n",
              "      <td>4956.0</td>\n",
              "    </tr>\n",
              "    <tr>\n",
              "      <th>mean</th>\n",
              "      <td>1.091481e+17</td>\n",
              "      <td>114757273.0</td>\n",
              "      <td>53.3</td>\n",
              "      <td>-6.3</td>\n",
              "      <td>116.0</td>\n",
              "      <td>2.1</td>\n",
              "      <td>40.0</td>\n",
              "      <td>1.4</td>\n",
              "      <td>2.5</td>\n",
              "      <td>54.7</td>\n",
              "      <td>9.6</td>\n",
              "    </tr>\n",
              "    <tr>\n",
              "      <th>std</th>\n",
              "      <td>2.419243e+17</td>\n",
              "      <td>123630380.8</td>\n",
              "      <td>0.1</td>\n",
              "      <td>0.1</td>\n",
              "      <td>74.1</td>\n",
              "      <td>1.2</td>\n",
              "      <td>72.4</td>\n",
              "      <td>2.1</td>\n",
              "      <td>3.9</td>\n",
              "      <td>99.0</td>\n",
              "      <td>21.6</td>\n",
              "    </tr>\n",
              "    <tr>\n",
              "      <th>min</th>\n",
              "      <td>4.407700e+04</td>\n",
              "      <td>43984.0</td>\n",
              "      <td>53.2</td>\n",
              "      <td>-6.5</td>\n",
              "      <td>10.0</td>\n",
              "      <td>1.0</td>\n",
              "      <td>1.0</td>\n",
              "      <td>0.0</td>\n",
              "      <td>1.0</td>\n",
              "      <td>0.0</td>\n",
              "      <td>0.0</td>\n",
              "    </tr>\n",
              "    <tr>\n",
              "      <th>25%</th>\n",
              "      <td>1.677861e+07</td>\n",
              "      <td>24261701.0</td>\n",
              "      <td>53.3</td>\n",
              "      <td>-6.3</td>\n",
              "      <td>60.0</td>\n",
              "      <td>1.0</td>\n",
              "      <td>3.0</td>\n",
              "      <td>0.1</td>\n",
              "      <td>1.0</td>\n",
              "      <td>0.0</td>\n",
              "      <td>0.0</td>\n",
              "    </tr>\n",
              "    <tr>\n",
              "      <th>50%</th>\n",
              "      <td>2.651411e+07</td>\n",
              "      <td>66948631.0</td>\n",
              "      <td>53.3</td>\n",
              "      <td>-6.3</td>\n",
              "      <td>95.0</td>\n",
              "      <td>2.0</td>\n",
              "      <td>11.0</td>\n",
              "      <td>0.6</td>\n",
              "      <td>1.0</td>\n",
              "      <td>0.0</td>\n",
              "      <td>0.0</td>\n",
              "    </tr>\n",
              "    <tr>\n",
              "      <th>75%</th>\n",
              "      <td>4.510179e+07</td>\n",
              "      <td>168279822.8</td>\n",
              "      <td>53.4</td>\n",
              "      <td>-6.2</td>\n",
              "      <td>150.0</td>\n",
              "      <td>3.0</td>\n",
              "      <td>40.0</td>\n",
              "      <td>2.0</td>\n",
              "      <td>2.0</td>\n",
              "      <td>62.0</td>\n",
              "      <td>10.0</td>\n",
              "    </tr>\n",
              "    <tr>\n",
              "      <th>max</th>\n",
              "      <td>7.100541e+17</td>\n",
              "      <td>478411072.0</td>\n",
              "      <td>53.6</td>\n",
              "      <td>-6.1</td>\n",
              "      <td>357.0</td>\n",
              "      <td>6.0</td>\n",
              "      <td>725.0</td>\n",
              "      <td>44.7</td>\n",
              "      <td>42.0</td>\n",
              "      <td>365.0</td>\n",
              "      <td>528.0</td>\n",
              "    </tr>\n",
              "  </tbody>\n",
              "</table>\n",
              "</div>\n",
              "      <button class=\"colab-df-convert\" onclick=\"convertToInteractive('df-215260fc-6e23-4c1f-ada1-c4ba9a091a86')\"\n",
              "              title=\"Convert this dataframe to an interactive table.\"\n",
              "              style=\"display:none;\">\n",
              "        \n",
              "  <svg xmlns=\"http://www.w3.org/2000/svg\" height=\"24px\"viewBox=\"0 0 24 24\"\n",
              "       width=\"24px\">\n",
              "    <path d=\"M0 0h24v24H0V0z\" fill=\"none\"/>\n",
              "    <path d=\"M18.56 5.44l.94 2.06.94-2.06 2.06-.94-2.06-.94-.94-2.06-.94 2.06-2.06.94zm-11 1L8.5 8.5l.94-2.06 2.06-.94-2.06-.94L8.5 2.5l-.94 2.06-2.06.94zm10 10l.94 2.06.94-2.06 2.06-.94-2.06-.94-.94-2.06-.94 2.06-2.06.94z\"/><path d=\"M17.41 7.96l-1.37-1.37c-.4-.4-.92-.59-1.43-.59-.52 0-1.04.2-1.43.59L10.3 9.45l-7.72 7.72c-.78.78-.78 2.05 0 2.83L4 21.41c.39.39.9.59 1.41.59.51 0 1.02-.2 1.41-.59l7.78-7.78 2.81-2.81c.8-.78.8-2.07 0-2.86zM5.41 20L4 18.59l7.72-7.72 1.47 1.35L5.41 20z\"/>\n",
              "  </svg>\n",
              "      </button>\n",
              "      \n",
              "  <style>\n",
              "    .colab-df-container {\n",
              "      display:flex;\n",
              "      flex-wrap:wrap;\n",
              "      gap: 12px;\n",
              "    }\n",
              "\n",
              "    .colab-df-convert {\n",
              "      background-color: #E8F0FE;\n",
              "      border: none;\n",
              "      border-radius: 50%;\n",
              "      cursor: pointer;\n",
              "      display: none;\n",
              "      fill: #1967D2;\n",
              "      height: 32px;\n",
              "      padding: 0 0 0 0;\n",
              "      width: 32px;\n",
              "    }\n",
              "\n",
              "    .colab-df-convert:hover {\n",
              "      background-color: #E2EBFA;\n",
              "      box-shadow: 0px 1px 2px rgba(60, 64, 67, 0.3), 0px 1px 3px 1px rgba(60, 64, 67, 0.15);\n",
              "      fill: #174EA6;\n",
              "    }\n",
              "\n",
              "    [theme=dark] .colab-df-convert {\n",
              "      background-color: #3B4455;\n",
              "      fill: #D2E3FC;\n",
              "    }\n",
              "\n",
              "    [theme=dark] .colab-df-convert:hover {\n",
              "      background-color: #434B5C;\n",
              "      box-shadow: 0px 1px 3px 1px rgba(0, 0, 0, 0.15);\n",
              "      filter: drop-shadow(0px 1px 2px rgba(0, 0, 0, 0.3));\n",
              "      fill: #FFFFFF;\n",
              "    }\n",
              "  </style>\n",
              "\n",
              "      <script>\n",
              "        const buttonEl =\n",
              "          document.querySelector('#df-215260fc-6e23-4c1f-ada1-c4ba9a091a86 button.colab-df-convert');\n",
              "        buttonEl.style.display =\n",
              "          google.colab.kernel.accessAllowed ? 'block' : 'none';\n",
              "\n",
              "        async function convertToInteractive(key) {\n",
              "          const element = document.querySelector('#df-215260fc-6e23-4c1f-ada1-c4ba9a091a86');\n",
              "          const dataTable =\n",
              "            await google.colab.kernel.invokeFunction('convertToInteractive',\n",
              "                                                     [key], {});\n",
              "          if (!dataTable) return;\n",
              "\n",
              "          const docLinkHtml = 'Like what you see? Visit the ' +\n",
              "            '<a target=\"_blank\" href=https://colab.research.google.com/notebooks/data_table.ipynb>data table notebook</a>'\n",
              "            + ' to learn more about interactive tables.';\n",
              "          element.innerHTML = '';\n",
              "          dataTable['output_type'] = 'display_data';\n",
              "          await google.colab.output.renderOutput(dataTable, element);\n",
              "          const docLink = document.createElement('div');\n",
              "          docLink.innerHTML = docLinkHtml;\n",
              "          element.appendChild(docLink);\n",
              "        }\n",
              "      </script>\n",
              "    </div>\n",
              "  </div>\n",
              "  "
            ]
          },
          "metadata": {},
          "execution_count": 22
        }
      ]
    },
    {
      "cell_type": "code",
      "source": [
        "#correlação entre as variáveis\n",
        "corr = df_clean[['price', 'minimum_nights', 'number_of_reviews', 'reviews_per_month',\n",
        "                 'calculated_host_listings_count', 'availability_365']].corr()\n",
        "display(corr)"
      ],
      "metadata": {
        "colab": {
          "base_uri": "https://localhost:8080/",
          "height": 238
        },
        "id": "C3ZlG3_XwMyi",
        "outputId": "dc4c05dd-d63f-472d-9717-0ac5cb28f7d4"
      },
      "execution_count": 23,
      "outputs": [
        {
          "output_type": "display_data",
          "data": {
            "text/plain": [
              "                                   price  minimum_nights  number_of_reviews  \\\n",
              "price                           1.000000        0.204460          -0.000363   \n",
              "minimum_nights                  0.204460        1.000000          -0.094257   \n",
              "number_of_reviews              -0.000363       -0.094257           1.000000   \n",
              "reviews_per_month               0.132512       -0.171836           0.452848   \n",
              "calculated_host_listings_count  0.055506       -0.005720           0.039554   \n",
              "availability_365                0.226838       -0.087549           0.149847   \n",
              "\n",
              "                                reviews_per_month  \\\n",
              "price                                    0.132512   \n",
              "minimum_nights                          -0.171836   \n",
              "number_of_reviews                        0.452848   \n",
              "reviews_per_month                        1.000000   \n",
              "calculated_host_listings_count           0.081212   \n",
              "availability_365                         0.318097   \n",
              "\n",
              "                                calculated_host_listings_count  \\\n",
              "price                                                 0.055506   \n",
              "minimum_nights                                       -0.005720   \n",
              "number_of_reviews                                     0.039554   \n",
              "reviews_per_month                                     0.081212   \n",
              "calculated_host_listings_count                        1.000000   \n",
              "availability_365                                      0.115380   \n",
              "\n",
              "                                availability_365  \n",
              "price                                   0.226838  \n",
              "minimum_nights                         -0.087549  \n",
              "number_of_reviews                       0.149847  \n",
              "reviews_per_month                       0.318097  \n",
              "calculated_host_listings_count          0.115380  \n",
              "availability_365                        1.000000  "
            ],
            "text/html": [
              "\n",
              "  <div id=\"df-ebd00107-ed09-40b0-a59b-65ac56d34597\">\n",
              "    <div class=\"colab-df-container\">\n",
              "      <div>\n",
              "<style scoped>\n",
              "    .dataframe tbody tr th:only-of-type {\n",
              "        vertical-align: middle;\n",
              "    }\n",
              "\n",
              "    .dataframe tbody tr th {\n",
              "        vertical-align: top;\n",
              "    }\n",
              "\n",
              "    .dataframe thead th {\n",
              "        text-align: right;\n",
              "    }\n",
              "</style>\n",
              "<table border=\"1\" class=\"dataframe\">\n",
              "  <thead>\n",
              "    <tr style=\"text-align: right;\">\n",
              "      <th></th>\n",
              "      <th>price</th>\n",
              "      <th>minimum_nights</th>\n",
              "      <th>number_of_reviews</th>\n",
              "      <th>reviews_per_month</th>\n",
              "      <th>calculated_host_listings_count</th>\n",
              "      <th>availability_365</th>\n",
              "    </tr>\n",
              "  </thead>\n",
              "  <tbody>\n",
              "    <tr>\n",
              "      <th>price</th>\n",
              "      <td>1.000000</td>\n",
              "      <td>0.204460</td>\n",
              "      <td>-0.000363</td>\n",
              "      <td>0.132512</td>\n",
              "      <td>0.055506</td>\n",
              "      <td>0.226838</td>\n",
              "    </tr>\n",
              "    <tr>\n",
              "      <th>minimum_nights</th>\n",
              "      <td>0.204460</td>\n",
              "      <td>1.000000</td>\n",
              "      <td>-0.094257</td>\n",
              "      <td>-0.171836</td>\n",
              "      <td>-0.005720</td>\n",
              "      <td>-0.087549</td>\n",
              "    </tr>\n",
              "    <tr>\n",
              "      <th>number_of_reviews</th>\n",
              "      <td>-0.000363</td>\n",
              "      <td>-0.094257</td>\n",
              "      <td>1.000000</td>\n",
              "      <td>0.452848</td>\n",
              "      <td>0.039554</td>\n",
              "      <td>0.149847</td>\n",
              "    </tr>\n",
              "    <tr>\n",
              "      <th>reviews_per_month</th>\n",
              "      <td>0.132512</td>\n",
              "      <td>-0.171836</td>\n",
              "      <td>0.452848</td>\n",
              "      <td>1.000000</td>\n",
              "      <td>0.081212</td>\n",
              "      <td>0.318097</td>\n",
              "    </tr>\n",
              "    <tr>\n",
              "      <th>calculated_host_listings_count</th>\n",
              "      <td>0.055506</td>\n",
              "      <td>-0.005720</td>\n",
              "      <td>0.039554</td>\n",
              "      <td>0.081212</td>\n",
              "      <td>1.000000</td>\n",
              "      <td>0.115380</td>\n",
              "    </tr>\n",
              "    <tr>\n",
              "      <th>availability_365</th>\n",
              "      <td>0.226838</td>\n",
              "      <td>-0.087549</td>\n",
              "      <td>0.149847</td>\n",
              "      <td>0.318097</td>\n",
              "      <td>0.115380</td>\n",
              "      <td>1.000000</td>\n",
              "    </tr>\n",
              "  </tbody>\n",
              "</table>\n",
              "</div>\n",
              "      <button class=\"colab-df-convert\" onclick=\"convertToInteractive('df-ebd00107-ed09-40b0-a59b-65ac56d34597')\"\n",
              "              title=\"Convert this dataframe to an interactive table.\"\n",
              "              style=\"display:none;\">\n",
              "        \n",
              "  <svg xmlns=\"http://www.w3.org/2000/svg\" height=\"24px\"viewBox=\"0 0 24 24\"\n",
              "       width=\"24px\">\n",
              "    <path d=\"M0 0h24v24H0V0z\" fill=\"none\"/>\n",
              "    <path d=\"M18.56 5.44l.94 2.06.94-2.06 2.06-.94-2.06-.94-.94-2.06-.94 2.06-2.06.94zm-11 1L8.5 8.5l.94-2.06 2.06-.94-2.06-.94L8.5 2.5l-.94 2.06-2.06.94zm10 10l.94 2.06.94-2.06 2.06-.94-2.06-.94-.94-2.06-.94 2.06-2.06.94z\"/><path d=\"M17.41 7.96l-1.37-1.37c-.4-.4-.92-.59-1.43-.59-.52 0-1.04.2-1.43.59L10.3 9.45l-7.72 7.72c-.78.78-.78 2.05 0 2.83L4 21.41c.39.39.9.59 1.41.59.51 0 1.02-.2 1.41-.59l7.78-7.78 2.81-2.81c.8-.78.8-2.07 0-2.86zM5.41 20L4 18.59l7.72-7.72 1.47 1.35L5.41 20z\"/>\n",
              "  </svg>\n",
              "      </button>\n",
              "      \n",
              "  <style>\n",
              "    .colab-df-container {\n",
              "      display:flex;\n",
              "      flex-wrap:wrap;\n",
              "      gap: 12px;\n",
              "    }\n",
              "\n",
              "    .colab-df-convert {\n",
              "      background-color: #E8F0FE;\n",
              "      border: none;\n",
              "      border-radius: 50%;\n",
              "      cursor: pointer;\n",
              "      display: none;\n",
              "      fill: #1967D2;\n",
              "      height: 32px;\n",
              "      padding: 0 0 0 0;\n",
              "      width: 32px;\n",
              "    }\n",
              "\n",
              "    .colab-df-convert:hover {\n",
              "      background-color: #E2EBFA;\n",
              "      box-shadow: 0px 1px 2px rgba(60, 64, 67, 0.3), 0px 1px 3px 1px rgba(60, 64, 67, 0.15);\n",
              "      fill: #174EA6;\n",
              "    }\n",
              "\n",
              "    [theme=dark] .colab-df-convert {\n",
              "      background-color: #3B4455;\n",
              "      fill: #D2E3FC;\n",
              "    }\n",
              "\n",
              "    [theme=dark] .colab-df-convert:hover {\n",
              "      background-color: #434B5C;\n",
              "      box-shadow: 0px 1px 3px 1px rgba(0, 0, 0, 0.15);\n",
              "      filter: drop-shadow(0px 1px 2px rgba(0, 0, 0, 0.3));\n",
              "      fill: #FFFFFF;\n",
              "    }\n",
              "  </style>\n",
              "\n",
              "      <script>\n",
              "        const buttonEl =\n",
              "          document.querySelector('#df-ebd00107-ed09-40b0-a59b-65ac56d34597 button.colab-df-convert');\n",
              "        buttonEl.style.display =\n",
              "          google.colab.kernel.accessAllowed ? 'block' : 'none';\n",
              "\n",
              "        async function convertToInteractive(key) {\n",
              "          const element = document.querySelector('#df-ebd00107-ed09-40b0-a59b-65ac56d34597');\n",
              "          const dataTable =\n",
              "            await google.colab.kernel.invokeFunction('convertToInteractive',\n",
              "                                                     [key], {});\n",
              "          if (!dataTable) return;\n",
              "\n",
              "          const docLinkHtml = 'Like what you see? Visit the ' +\n",
              "            '<a target=\"_blank\" href=https://colab.research.google.com/notebooks/data_table.ipynb>data table notebook</a>'\n",
              "            + ' to learn more about interactive tables.';\n",
              "          element.innerHTML = '';\n",
              "          dataTable['output_type'] = 'display_data';\n",
              "          await google.colab.output.renderOutput(dataTable, element);\n",
              "          const docLink = document.createElement('div');\n",
              "          docLink.innerHTML = docLinkHtml;\n",
              "          element.appendChild(docLink);\n",
              "        }\n",
              "      </script>\n",
              "    </div>\n",
              "  </div>\n",
              "  "
            ]
          },
          "metadata": {}
        }
      ]
    },
    {
      "cell_type": "code",
      "source": [
        "sns.heatmap(corr, cmap='RdBu', fmt='.2f', square=True, linecolor='white', annot=True);"
      ],
      "metadata": {
        "colab": {
          "base_uri": "https://localhost:8080/",
          "height": 411
        },
        "id": "ndqyFICJwPM5",
        "outputId": "366c0d19-c63c-427b-e463-11b6b5f437c2"
      },
      "execution_count": 24,
      "outputs": [
        {
          "output_type": "display_data",
          "data": {
            "text/plain": [
              "<Figure size 432x288 with 2 Axes>"
            ],
            "image/png": "[encoded data removed]"
          },
          "metadata": {
            "needs_background": "light"
          }
        }
      ]
    },
    {
      "cell_type": "markdown",
      "source": [
        "**Verificando o tipo de imóvel mais alugado**\n",
        "\n",
        "É possível verificar que o tipo de imóvel mais alugado é o *private room* e que o menos alugado é o *hotel room*."
      ],
      "metadata": {
        "id": "mYwSpfhk58Yy"
      }
    },
    {
      "cell_type": "code",
      "source": [
        "#qual o tipo de móvel mais alugado\n",
        "df_clean.room_type.value_counts()"
      ],
      "metadata": {
        "colab": {
          "base_uri": "https://localhost:8080/"
        },
        "id": "-UIOxWCGwSN7",
        "outputId": "116fbafc-2fe6-4417-9260-123d2331de8d"
      },
      "execution_count": 25,
      "outputs": [
        {
          "output_type": "execute_result",
          "data": {
            "text/plain": [
              "Private room       2680\n",
              "Entire home/apt    2139\n",
              "Shared room         102\n",
              "Hotel room           35\n",
              "Name: room_type, dtype: int64"
            ]
          },
          "metadata": {},
          "execution_count": 25
        }
      ]
    },
    {
      "cell_type": "code",
      "source": [
        "df_clean.room_type.value_counts() / df_clean.shape[0]"
      ],
      "metadata": {
        "colab": {
          "base_uri": "https://localhost:8080/"
        },
        "id": "FT4Lgn3VwUWl",
        "outputId": "66866130-4740-455d-e97f-8f75f4f36e49"
      },
      "execution_count": 26,
      "outputs": [
        {
          "output_type": "execute_result",
          "data": {
            "text/plain": [
              "Private room       0.540759\n",
              "Entire home/apt    0.431598\n",
              "Shared room        0.020581\n",
              "Hotel room         0.007062\n",
              "Name: room_type, dtype: float64"
            ]
          },
          "metadata": {},
          "execution_count": 26
        }
      ]
    },
    {
      "cell_type": "code",
      "source": [
        "#gráfico dos móveis\n",
        "df_clean.room_type.value_counts().plot(kind='barh');\n"
      ],
      "metadata": {
        "colab": {
          "base_uri": "https://localhost:8080/",
          "height": 265
        },
        "id": "QhT8nam_wXY4",
        "outputId": "1b087236-f77e-4375-b4ca-460c23795181"
      },
      "execution_count": 27,
      "outputs": [
        {
          "output_type": "display_data",
          "data": {
            "text/plain": [
              "<Figure size 432x288 with 1 Axes>"
            ],
            "image/png": "[encoded data removed]"
          },
          "metadata": {
            "needs_background": "light"
          }
        }
      ]
    },
    {
      "cell_type": "markdown",
      "source": [
        "**Concluindo a análise e descobrindo a localidade mais cara**\n",
        "\n",
        "As localidade mais caras são a *Dn Laoghaire-Rathdown* e a *Dublin City*, contudo, é essencial notar que, apesar da quantidade de imóveis localizados na *Dublin City* ser muito maior do que a da outra localidade, seus preços ainda são tão altos e competitivos quanto a outra, revelando que ela tem **mais** valor aos olhos dos viajantes."
      ],
      "metadata": {
        "id": "VOyqK_Tq6dgE"
      }
    },
    {
      "cell_type": "code",
      "source": [
        "#qual a localidade mais cara\n",
        "df_clean.groupby(['neighbourhood']).price.mean().sort_values(ascending=False)[:10]"
      ],
      "metadata": {
        "colab": {
          "base_uri": "https://localhost:8080/"
        },
        "id": "24KmACBpwaw6",
        "outputId": "d50b074e-d88e-485b-80d1-952c6df69609"
      },
      "execution_count": 28,
      "outputs": [
        {
          "output_type": "execute_result",
          "data": {
            "text/plain": [
              "neighbourhood\n",
              "Dn Laoghaire-Rathdown    119.149912\n",
              "Dublin City              119.109309\n",
              "Fingal                   103.750442\n",
              "South Dublin              91.510121\n",
              "Name: price, dtype: float64"
            ]
          },
          "metadata": {},
          "execution_count": 28
        }
      ]
    },
    {
      "cell_type": "code",
      "source": [
        "#ver quantidade de imóveis em 'Dn Laoghaire-Rathdown'\n",
        "print(df_clean[df_clean.neighbourhood == 'Dn Laoghaire-Rathdown'].shape)\n",
        "print(df_clean[df_clean.neighbourhood == 'Dublin City'].shape)"
      ],
      "metadata": {
        "colab": {
          "base_uri": "https://localhost:8080/"
        },
        "id": "hxAZO4IEwbOs",
        "outputId": "21d8bd11-ddc8-4924-c428-c0c2aaef6b18"
      },
      "execution_count": 29,
      "outputs": [
        {
          "output_type": "stream",
          "name": "stdout",
          "text": [
            "(567, 16)\n",
            "(3577, 16)\n"
          ]
        }
      ]
    }
  ]
}
